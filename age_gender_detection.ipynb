{
  "nbformat": 4,
  "nbformat_minor": 0,
  "metadata": {
    "colab": {
      "name": "age-gender-detection",
      "provenance": [],
      "collapsed_sections": [],
      "include_colab_link": true
    },
    "kernelspec": {
      "name": "python3",
      "display_name": "Python 3"
    },
    "accelerator": "GPU",
    "widgets": {
      "application/vnd.jupyter.widget-state+json": {
        "04343244994a4545aeafee090567bfd9": {
          "model_module": "@jupyter-widgets/controls",
          "model_name": "HBoxModel",
          "model_module_version": "1.5.0",
          "state": {
            "_view_name": "HBoxView",
            "_dom_classes": [],
            "_model_name": "HBoxModel",
            "_view_module": "@jupyter-widgets/controls",
            "_model_module_version": "1.5.0",
            "_view_count": null,
            "_view_module_version": "1.5.0",
            "box_style": "",
            "layout": "IPY_MODEL_1d145571aa074aa48dab0e6874da7490",
            "_model_module": "@jupyter-widgets/controls",
            "children": [
              "IPY_MODEL_dff9c03ffbf84441a85244ceb734bff1",
              "IPY_MODEL_adc997944f4449e08741868dd1fb9ee5"
            ]
          }
        },
        "1d145571aa074aa48dab0e6874da7490": {
          "model_module": "@jupyter-widgets/base",
          "model_name": "LayoutModel",
          "model_module_version": "1.2.0",
          "state": {
            "_view_name": "LayoutView",
            "grid_template_rows": null,
            "right": null,
            "justify_content": null,
            "_view_module": "@jupyter-widgets/base",
            "overflow": null,
            "_model_module_version": "1.2.0",
            "_view_count": null,
            "flex_flow": null,
            "width": null,
            "min_width": null,
            "border": null,
            "align_items": null,
            "bottom": null,
            "_model_module": "@jupyter-widgets/base",
            "top": null,
            "grid_column": null,
            "overflow_y": null,
            "overflow_x": null,
            "grid_auto_flow": null,
            "grid_area": null,
            "grid_template_columns": null,
            "flex": null,
            "_model_name": "LayoutModel",
            "justify_items": null,
            "grid_row": null,
            "max_height": null,
            "align_content": null,
            "visibility": null,
            "align_self": null,
            "height": null,
            "min_height": null,
            "padding": null,
            "grid_auto_rows": null,
            "grid_gap": null,
            "max_width": null,
            "order": null,
            "_view_module_version": "1.2.0",
            "grid_template_areas": null,
            "object_position": null,
            "object_fit": null,
            "grid_auto_columns": null,
            "margin": null,
            "display": null,
            "left": null
          }
        },
        "dff9c03ffbf84441a85244ceb734bff1": {
          "model_module": "@jupyter-widgets/controls",
          "model_name": "FloatProgressModel",
          "model_module_version": "1.5.0",
          "state": {
            "_view_name": "ProgressView",
            "style": "IPY_MODEL_44ed516e8f4c424495a41d143ccc4006",
            "_dom_classes": [],
            "description": "100%",
            "_model_name": "FloatProgressModel",
            "bar_style": "success",
            "max": 553433881,
            "_view_module": "@jupyter-widgets/controls",
            "_model_module_version": "1.5.0",
            "value": 553433881,
            "_view_count": null,
            "_view_module_version": "1.5.0",
            "orientation": "horizontal",
            "min": 0,
            "description_tooltip": null,
            "_model_module": "@jupyter-widgets/controls",
            "layout": "IPY_MODEL_994815dbc6844e91b8a6f12b9bfd63e6"
          }
        },
        "adc997944f4449e08741868dd1fb9ee5": {
          "model_module": "@jupyter-widgets/controls",
          "model_name": "HTMLModel",
          "model_module_version": "1.5.0",
          "state": {
            "_view_name": "HTMLView",
            "style": "IPY_MODEL_f9848fd0bac34424a3e775dcc10b65d2",
            "_dom_classes": [],
            "description": "",
            "_model_name": "HTMLModel",
            "placeholder": "​",
            "_view_module": "@jupyter-widgets/controls",
            "_model_module_version": "1.5.0",
            "value": " 528M/528M [1:01:38&lt;00:00, 150kB/s]",
            "_view_count": null,
            "_view_module_version": "1.5.0",
            "description_tooltip": null,
            "_model_module": "@jupyter-widgets/controls",
            "layout": "IPY_MODEL_6cda06160a334252b5159a6e3d729cb0"
          }
        },
        "44ed516e8f4c424495a41d143ccc4006": {
          "model_module": "@jupyter-widgets/controls",
          "model_name": "ProgressStyleModel",
          "model_module_version": "1.5.0",
          "state": {
            "_view_name": "StyleView",
            "_model_name": "ProgressStyleModel",
            "description_width": "initial",
            "_view_module": "@jupyter-widgets/base",
            "_model_module_version": "1.5.0",
            "_view_count": null,
            "_view_module_version": "1.2.0",
            "bar_color": null,
            "_model_module": "@jupyter-widgets/controls"
          }
        },
        "994815dbc6844e91b8a6f12b9bfd63e6": {
          "model_module": "@jupyter-widgets/base",
          "model_name": "LayoutModel",
          "model_module_version": "1.2.0",
          "state": {
            "_view_name": "LayoutView",
            "grid_template_rows": null,
            "right": null,
            "justify_content": null,
            "_view_module": "@jupyter-widgets/base",
            "overflow": null,
            "_model_module_version": "1.2.0",
            "_view_count": null,
            "flex_flow": null,
            "width": null,
            "min_width": null,
            "border": null,
            "align_items": null,
            "bottom": null,
            "_model_module": "@jupyter-widgets/base",
            "top": null,
            "grid_column": null,
            "overflow_y": null,
            "overflow_x": null,
            "grid_auto_flow": null,
            "grid_area": null,
            "grid_template_columns": null,
            "flex": null,
            "_model_name": "LayoutModel",
            "justify_items": null,
            "grid_row": null,
            "max_height": null,
            "align_content": null,
            "visibility": null,
            "align_self": null,
            "height": null,
            "min_height": null,
            "padding": null,
            "grid_auto_rows": null,
            "grid_gap": null,
            "max_width": null,
            "order": null,
            "_view_module_version": "1.2.0",
            "grid_template_areas": null,
            "object_position": null,
            "object_fit": null,
            "grid_auto_columns": null,
            "margin": null,
            "display": null,
            "left": null
          }
        },
        "f9848fd0bac34424a3e775dcc10b65d2": {
          "model_module": "@jupyter-widgets/controls",
          "model_name": "DescriptionStyleModel",
          "model_module_version": "1.5.0",
          "state": {
            "_view_name": "StyleView",
            "_model_name": "DescriptionStyleModel",
            "description_width": "",
            "_view_module": "@jupyter-widgets/base",
            "_model_module_version": "1.5.0",
            "_view_count": null,
            "_view_module_version": "1.2.0",
            "_model_module": "@jupyter-widgets/controls"
          }
        },
        "6cda06160a334252b5159a6e3d729cb0": {
          "model_module": "@jupyter-widgets/base",
          "model_name": "LayoutModel",
          "model_module_version": "1.2.0",
          "state": {
            "_view_name": "LayoutView",
            "grid_template_rows": null,
            "right": null,
            "justify_content": null,
            "_view_module": "@jupyter-widgets/base",
            "overflow": null,
            "_model_module_version": "1.2.0",
            "_view_count": null,
            "flex_flow": null,
            "width": null,
            "min_width": null,
            "border": null,
            "align_items": null,
            "bottom": null,
            "_model_module": "@jupyter-widgets/base",
            "top": null,
            "grid_column": null,
            "overflow_y": null,
            "overflow_x": null,
            "grid_auto_flow": null,
            "grid_area": null,
            "grid_template_columns": null,
            "flex": null,
            "_model_name": "LayoutModel",
            "justify_items": null,
            "grid_row": null,
            "max_height": null,
            "align_content": null,
            "visibility": null,
            "align_self": null,
            "height": null,
            "min_height": null,
            "padding": null,
            "grid_auto_rows": null,
            "grid_gap": null,
            "max_width": null,
            "order": null,
            "_view_module_version": "1.2.0",
            "grid_template_areas": null,
            "object_position": null,
            "object_fit": null,
            "grid_auto_columns": null,
            "margin": null,
            "display": null,
            "left": null
          }
        }
      }
    }
  },
  "cells": [
    {
      "cell_type": "markdown",
      "metadata": {
        "id": "view-in-github",
        "colab_type": "text"
      },
      "source": [
        "<a href=\"https://colab.research.google.com/github/Teja023/Age-and-Gender-Detection/blob/main/age_gender_detection.ipynb\" target=\"_parent\"><img src=\"https://colab.research.google.com/assets/colab-badge.svg\" alt=\"Open In Colab\"/></a>"
      ]
    },
    {
      "cell_type": "code",
      "metadata": {
        "id": "YiBPRREuXDfa"
      },
      "source": [
        "!nvidia-smi"
      ],
      "execution_count": null,
      "outputs": []
    },
    {
      "cell_type": "code",
      "metadata": {
        "id": "GO820-swkq7r"
      },
      "source": [
        "import torch\n",
        "import numpy as np, cv2, pandas as pd, glob, time\n",
        "import matplotlib.pyplot as plt \n",
        "import torch\n",
        "import torch.nn as nn\n",
        "from torch import optim\n",
        "import torch.nn.functional as F\n",
        "from torch.utils.data import Dataset, DataLoader\n",
        "import torchvision\n",
        "from torchvision import transforms, models, datasets\n",
        "device = 'cuda' if torch.cuda.is_available() else 'cpu'"
      ],
      "execution_count": 2,
      "outputs": []
    },
    {
      "cell_type": "code",
      "metadata": {
        "id": "bZVyS3nCku1o"
      },
      "source": [
        "from pydrive.auth import GoogleAuth\n",
        "from pydrive.drive import GoogleDrive\n",
        "from google.colab import auth\n",
        "from oauth2client.client import GoogleCredentials\n",
        "\n",
        "auth.authenticate_user()\n",
        "gauth = GoogleAuth()\n",
        "gauth.credentials = GoogleCredentials.get_application_default()\n",
        "drive = GoogleDrive(gauth)\n",
        "\n",
        "def getFile_from_drive( file_id, name ):\n",
        "  downloaded = drive.CreateFile({'id': file_id})\n",
        "  downloaded.GetContentFile(name)\n",
        "\n",
        "getFile_from_drive('1Z1RqRo0_JiavaZw2yzZG6WETdZQ8qX86', 'fairface-img-margin025-trainval.zip')\n",
        "getFile_from_drive('1k5vvyREmHDW5TSM9QgB04Bvc8C8_7dl-', 'fairface-label-train.csv')\n",
        "getFile_from_drive('1_rtz1M1zhvS0d5vVoXUamnohB6cJ02iJ', 'fairface-label-val.csv')\n",
        "\n",
        "!unzip -qq fairface-img-margin025-trainval.zip"
      ],
      "execution_count": 3,
      "outputs": []
    },
    {
      "cell_type": "code",
      "metadata": {
        "id": "NK77ld3gkyvk",
        "colab": {
          "base_uri": "https://localhost:8080/",
          "height": 206
        },
        "outputId": "ebafe247-7ad2-4420-abc6-d6c7d772256c"
      },
      "source": [
        "trn_df = pd.read_csv('fairface-label-train.csv')\n",
        "val_df = pd.read_csv('fairface-label-val.csv')\n",
        "val_df.head()"
      ],
      "execution_count": 5,
      "outputs": [
        {
          "output_type": "execute_result",
          "data": {
            "text/html": [
              "<div>\n",
              "<style scoped>\n",
              "    .dataframe tbody tr th:only-of-type {\n",
              "        vertical-align: middle;\n",
              "    }\n",
              "\n",
              "    .dataframe tbody tr th {\n",
              "        vertical-align: top;\n",
              "    }\n",
              "\n",
              "    .dataframe thead th {\n",
              "        text-align: right;\n",
              "    }\n",
              "</style>\n",
              "<table border=\"1\" class=\"dataframe\">\n",
              "  <thead>\n",
              "    <tr style=\"text-align: right;\">\n",
              "      <th></th>\n",
              "      <th>file</th>\n",
              "      <th>age</th>\n",
              "      <th>gender</th>\n",
              "      <th>race</th>\n",
              "      <th>service_test</th>\n",
              "    </tr>\n",
              "  </thead>\n",
              "  <tbody>\n",
              "    <tr>\n",
              "      <th>0</th>\n",
              "      <td>val/1.jpg</td>\n",
              "      <td>11</td>\n",
              "      <td>Male</td>\n",
              "      <td>East Asian</td>\n",
              "      <td>False</td>\n",
              "    </tr>\n",
              "    <tr>\n",
              "      <th>1</th>\n",
              "      <td>val/2.jpg</td>\n",
              "      <td>51</td>\n",
              "      <td>Female</td>\n",
              "      <td>East Asian</td>\n",
              "      <td>True</td>\n",
              "    </tr>\n",
              "    <tr>\n",
              "      <th>2</th>\n",
              "      <td>val/3.jpg</td>\n",
              "      <td>37</td>\n",
              "      <td>Male</td>\n",
              "      <td>White</td>\n",
              "      <td>True</td>\n",
              "    </tr>\n",
              "    <tr>\n",
              "      <th>3</th>\n",
              "      <td>val/4.jpg</td>\n",
              "      <td>25</td>\n",
              "      <td>Female</td>\n",
              "      <td>Latino_Hispanic</td>\n",
              "      <td>True</td>\n",
              "    </tr>\n",
              "    <tr>\n",
              "      <th>4</th>\n",
              "      <td>val/5.jpg</td>\n",
              "      <td>24</td>\n",
              "      <td>Male</td>\n",
              "      <td>Southeast Asian</td>\n",
              "      <td>False</td>\n",
              "    </tr>\n",
              "  </tbody>\n",
              "</table>\n",
              "</div>"
            ],
            "text/plain": [
              "        file  age  gender             race  service_test\n",
              "0  val/1.jpg   11    Male       East Asian         False\n",
              "1  val/2.jpg   51  Female       East Asian          True\n",
              "2  val/3.jpg   37    Male            White          True\n",
              "3  val/4.jpg   25  Female  Latino_Hispanic          True\n",
              "4  val/5.jpg   24    Male  Southeast Asian         False"
            ]
          },
          "metadata": {
            "tags": []
          },
          "execution_count": 5
        }
      ]
    },
    {
      "cell_type": "code",
      "metadata": {
        "id": "XVOL0emTljbq"
      },
      "source": [
        "from torch.utils.data import Dataset, DataLoader\n",
        "import cv2\n",
        "IMAGE_SIZE = 224\n",
        "class GenderAgeClass(Dataset):\n",
        "    def __init__(self, df, tfms=None):\n",
        "        self.df = df\n",
        "        self.normalize = transforms.Normalize(mean=[0.485, 0.456, 0.406], \n",
        "                                              std=[0.229, 0.224, 0.225])\n",
        "    def __len__(self): return len(self.df)\n",
        "    def __getitem__(self, ix):\n",
        "        f = self.df.iloc[ix].squeeze()\n",
        "        file = f.file\n",
        "        gen = f.gender == 'Female'\n",
        "        age = f.age\n",
        "        im = cv2.imread(file)\n",
        "        im = cv2.cvtColor(im, cv2.COLOR_BGR2RGB)\n",
        "        return im, age, gen\n",
        "\n",
        "    def preprocess_image(self, im):\n",
        "        im = cv2.resize(im, (IMAGE_SIZE, IMAGE_SIZE))\n",
        "        im = torch.tensor(im).permute(2,0,1)\n",
        "        im = self.normalize(im/255.)\n",
        "        return im[None]\n",
        "\n",
        "    def collate_fn(self, batch):\n",
        "        'preprocess images, ages and genders'\n",
        "        ims, ages, genders = [], [], []\n",
        "        for im, age, gender in batch:\n",
        "            im = self.preprocess_image(im)\n",
        "            ims.append(im)\n",
        "\n",
        "            ages.append(float(int(age)/80))\n",
        "            genders.append(float(gender))\n",
        "\n",
        "        ages, genders = [torch.tensor(x).to(device).float() for x in [ages, genders]]\n",
        "        ims = torch.cat(ims).to(device)\n",
        "\n",
        "        return ims, ages, genders"
      ],
      "execution_count": 6,
      "outputs": []
    },
    {
      "cell_type": "code",
      "metadata": {
        "id": "cfQ7WlW1mO8c"
      },
      "source": [
        "trn = GenderAgeClass(trn_df)\n",
        "val = GenderAgeClass(val_df)"
      ],
      "execution_count": 7,
      "outputs": []
    },
    {
      "cell_type": "code",
      "metadata": {
        "id": "eJEiuBhlnPd-",
        "colab": {
          "base_uri": "https://localhost:8080/"
        },
        "outputId": "b326816e-967b-409b-ebaf-5859970a8a22"
      },
      "source": [
        "device='cuda'\n",
        "train_loader = DataLoader(trn, batch_size=32, shuffle=True, drop_last=True, collate_fn=trn.collate_fn)\n",
        "test_loader = DataLoader(val, batch_size=32, collate_fn=val.collate_fn)\n",
        "a,b,c, = next(iter(train_loader))\n",
        "print(a.shape, b.shape, c.shape)"
      ],
      "execution_count": 8,
      "outputs": [
        {
          "output_type": "stream",
          "text": [
            "torch.Size([32, 3, 224, 224]) torch.Size([32]) torch.Size([32])\n"
          ],
          "name": "stdout"
        }
      ]
    },
    {
      "cell_type": "code",
      "metadata": {
        "id": "nvj3Nb6_ngim",
        "colab": {
          "base_uri": "https://localhost:8080/",
          "height": 104,
          "referenced_widgets": [
            "04343244994a4545aeafee090567bfd9",
            "1d145571aa074aa48dab0e6874da7490",
            "dff9c03ffbf84441a85244ceb734bff1",
            "adc997944f4449e08741868dd1fb9ee5",
            "44ed516e8f4c424495a41d143ccc4006",
            "994815dbc6844e91b8a6f12b9bfd63e6",
            "f9848fd0bac34424a3e775dcc10b65d2",
            "6cda06160a334252b5159a6e3d729cb0"
          ]
        },
        "outputId": "fa72a90b-ca88-4186-df0a-ab88f607d53b"
      },
      "source": [
        "def get_model():\n",
        "    model = models.vgg16(pretrained = True)\n",
        "    # Freeze parameters so we don't backprop through them\n",
        "    for param in model.parameters():\n",
        "        param.requires_grad = False\n",
        "    model.avgpool = nn.Sequential(\n",
        "        nn.Conv2d(512,512, kernel_size=3),\n",
        "        nn.MaxPool2d(2),\n",
        "        nn.ReLU(),\n",
        "        nn.Flatten()\n",
        "    )\n",
        "    class ageGenderClassifier(nn.Module):\n",
        "        def __init__(self):\n",
        "            super(ageGenderClassifier, self).__init__()\n",
        "            self.intermediate = nn.Sequential(\n",
        "                nn.Linear(2048,512),\n",
        "                nn.ReLU(),\n",
        "                nn.Dropout(0.4),\n",
        "                nn.Linear(512,128),\n",
        "                nn.ReLU(),\n",
        "                nn.Dropout(0.4),\n",
        "                nn.Linear(128,64),\n",
        "                nn.ReLU(),\n",
        "            )\n",
        "            self.age_classifier = nn.Sequential(\n",
        "                nn.Linear(64, 1),\n",
        "                nn.Sigmoid()\n",
        "            )\n",
        "            self.gender_classifier = nn.Sequential(\n",
        "                nn.Linear(64, 1),\n",
        "                nn.Sigmoid()\n",
        "            )\n",
        "        def forward(self, x):\n",
        "            x = self.intermediate(x)\n",
        "            age = self.age_classifier(x)\n",
        "            gender = self.gender_classifier(x)\n",
        "            return gender, age\n",
        "        \n",
        "    model.classifier = ageGenderClassifier()\n",
        "    \n",
        "    gender_criterion = nn.BCELoss()\n",
        "    age_criterion = nn.L1Loss()\n",
        "    loss_functions = gender_criterion, age_criterion\n",
        "    optimizer = torch.optim.Adam(model.parameters(), lr= 1e-4)\n",
        "    \n",
        "    return model.to(device), loss_functions, optimizer\n",
        "\n",
        "model, loss_functions, optimizer = get_model()"
      ],
      "execution_count": 9,
      "outputs": [
        {
          "output_type": "stream",
          "text": [
            "Downloading: \"https://download.pytorch.org/models/vgg16-397923af.pth\" to /root/.cache/torch/hub/checkpoints/vgg16-397923af.pth\n"
          ],
          "name": "stderr"
        },
        {
          "output_type": "display_data",
          "data": {
            "application/vnd.jupyter.widget-view+json": {
              "model_id": "04343244994a4545aeafee090567bfd9",
              "version_minor": 0,
              "version_major": 2
            },
            "text/plain": [
              "HBox(children=(FloatProgress(value=0.0, max=553433881.0), HTML(value='')))"
            ]
          },
          "metadata": {
            "tags": []
          }
        },
        {
          "output_type": "stream",
          "text": [
            "\n"
          ],
          "name": "stdout"
        }
      ]
    },
    {
      "cell_type": "code",
      "metadata": {
        "id": "XceUr1tWoJEL",
        "colab": {
          "base_uri": "https://localhost:8080/"
        },
        "outputId": "659237a9-5540-4415-823b-6650986d2b4d"
      },
      "source": [
        "!pip install torchsummary\n",
        "from torchsummary import summary\n",
        "summary(model, input_size=(3,224,224), device=device)"
      ],
      "execution_count": 10,
      "outputs": [
        {
          "output_type": "stream",
          "text": [
            "Requirement already satisfied: torchsummary in /usr/local/lib/python3.7/dist-packages (1.5.1)\n",
            "----------------------------------------------------------------\n",
            "        Layer (type)               Output Shape         Param #\n",
            "================================================================\n",
            "            Conv2d-1         [-1, 64, 224, 224]           1,792\n",
            "              ReLU-2         [-1, 64, 224, 224]               0\n",
            "            Conv2d-3         [-1, 64, 224, 224]          36,928\n",
            "              ReLU-4         [-1, 64, 224, 224]               0\n",
            "         MaxPool2d-5         [-1, 64, 112, 112]               0\n",
            "            Conv2d-6        [-1, 128, 112, 112]          73,856\n",
            "              ReLU-7        [-1, 128, 112, 112]               0\n",
            "            Conv2d-8        [-1, 128, 112, 112]         147,584\n",
            "              ReLU-9        [-1, 128, 112, 112]               0\n",
            "        MaxPool2d-10          [-1, 128, 56, 56]               0\n",
            "           Conv2d-11          [-1, 256, 56, 56]         295,168\n",
            "             ReLU-12          [-1, 256, 56, 56]               0\n",
            "           Conv2d-13          [-1, 256, 56, 56]         590,080\n",
            "             ReLU-14          [-1, 256, 56, 56]               0\n",
            "           Conv2d-15          [-1, 256, 56, 56]         590,080\n",
            "             ReLU-16          [-1, 256, 56, 56]               0\n",
            "        MaxPool2d-17          [-1, 256, 28, 28]               0\n",
            "           Conv2d-18          [-1, 512, 28, 28]       1,180,160\n",
            "             ReLU-19          [-1, 512, 28, 28]               0\n",
            "           Conv2d-20          [-1, 512, 28, 28]       2,359,808\n",
            "             ReLU-21          [-1, 512, 28, 28]               0\n",
            "           Conv2d-22          [-1, 512, 28, 28]       2,359,808\n",
            "             ReLU-23          [-1, 512, 28, 28]               0\n",
            "        MaxPool2d-24          [-1, 512, 14, 14]               0\n",
            "           Conv2d-25          [-1, 512, 14, 14]       2,359,808\n",
            "             ReLU-26          [-1, 512, 14, 14]               0\n",
            "           Conv2d-27          [-1, 512, 14, 14]       2,359,808\n",
            "             ReLU-28          [-1, 512, 14, 14]               0\n",
            "           Conv2d-29          [-1, 512, 14, 14]       2,359,808\n",
            "             ReLU-30          [-1, 512, 14, 14]               0\n",
            "        MaxPool2d-31            [-1, 512, 7, 7]               0\n",
            "           Conv2d-32            [-1, 512, 5, 5]       2,359,808\n",
            "        MaxPool2d-33            [-1, 512, 2, 2]               0\n",
            "             ReLU-34            [-1, 512, 2, 2]               0\n",
            "          Flatten-35                 [-1, 2048]               0\n",
            "           Linear-36                  [-1, 512]       1,049,088\n",
            "             ReLU-37                  [-1, 512]               0\n",
            "          Dropout-38                  [-1, 512]               0\n",
            "           Linear-39                  [-1, 128]          65,664\n",
            "             ReLU-40                  [-1, 128]               0\n",
            "          Dropout-41                  [-1, 128]               0\n",
            "           Linear-42                   [-1, 64]           8,256\n",
            "             ReLU-43                   [-1, 64]               0\n",
            "           Linear-44                    [-1, 1]              65\n",
            "          Sigmoid-45                    [-1, 1]               0\n",
            "           Linear-46                    [-1, 1]              65\n",
            "          Sigmoid-47                    [-1, 1]               0\n",
            "ageGenderClassifier-48         [[-1, 1], [-1, 1]]               0\n",
            "================================================================\n",
            "Total params: 18,197,634\n",
            "Trainable params: 3,482,946\n",
            "Non-trainable params: 14,714,688\n",
            "----------------------------------------------------------------\n",
            "Input size (MB): 0.57\n",
            "Forward/backward pass size (MB): 218.55\n",
            "Params size (MB): 69.42\n",
            "Estimated Total Size (MB): 288.55\n",
            "----------------------------------------------------------------\n"
          ],
          "name": "stdout"
        },
        {
          "output_type": "stream",
          "text": [
            "/usr/local/lib/python3.7/dist-packages/torch/nn/functional.py:718: UserWarning: Named tensors and all their associated APIs are an experimental feature and subject to change. Please do not use them for anything important until they are released as stable. (Triggered internally at  /pytorch/c10/core/TensorImpl.h:1156.)\n",
            "  return torch.max_pool2d(input, kernel_size, stride, padding, dilation, ceil_mode)\n"
          ],
          "name": "stderr"
        }
      ]
    },
    {
      "cell_type": "code",
      "metadata": {
        "id": "aJoiV7T2oMRc"
      },
      "source": [
        "def train_batch(data, model, optimizer, criteria):\n",
        "    model.train()\n",
        "    ims, age, gender = data\n",
        "    optimizer.zero_grad()\n",
        "    pred_gender, pred_age = model(ims)    \n",
        "    gender_criterion, age_criterion = criteria\n",
        "    gender_loss = gender_criterion(pred_gender.squeeze(), gender)\n",
        "    age_loss = age_criterion(pred_age.squeeze(), age)\n",
        "    total_loss = gender_loss + age_loss\n",
        "    total_loss.backward()\n",
        "    optimizer.step()\n",
        "    return total_loss\n",
        "\n",
        "def validate_batch(data, model, criteria):\n",
        "    model.eval()\n",
        "    ims, age, gender = data\n",
        "    with torch.no_grad():\n",
        "      pred_gender, pred_age = model(ims)\n",
        "    gender_criterion, age_criterion = criteria\n",
        "    gender_loss = gender_criterion(pred_gender.squeeze(), gender)\n",
        "    age_loss = age_criterion(pred_age.squeeze(), age)\n",
        "    total_loss = gender_loss + age_loss\n",
        "    pred_gender = (pred_gender > 0.5).squeeze()\n",
        "    gender_acc = (pred_gender == gender).float().sum()\n",
        "    age_mae = torch.abs(age - pred_age).float().sum()\n",
        "    return total_loss, gender_acc, age_mae"
      ],
      "execution_count": 11,
      "outputs": []
    },
    {
      "cell_type": "code",
      "metadata": {
        "id": "uhbO3pA0oTuc",
        "colab": {
          "base_uri": "https://localhost:8080/"
        },
        "outputId": "955579fe-6579-49ac-d00d-76e407e4c4d7"
      },
      "source": [
        "model, criteria, optimizer = get_model()\n",
        "val_gender_accuracies = []\n",
        "val_age_maes = []\n",
        "train_losses = []\n",
        "val_losses = []\n",
        "\n",
        "n_epochs = 5\n",
        "best_test_loss = 1000\n",
        "start = time.time()\n",
        "\n",
        "for epoch in range(n_epochs):\n",
        "    epoch_train_loss, epoch_test_loss = 0, 0\n",
        "    val_age_mae, val_gender_acc, ctr = 0, 0, 0\n",
        "    _n = len(train_loader)\n",
        "    for ix, data in enumerate(train_loader):\n",
        "        # if ix == 100: break\n",
        "        loss = train_batch(data, model, optimizer, criteria)\n",
        "        epoch_train_loss += loss.item()\n",
        "\n",
        "    for ix, data in enumerate(test_loader):\n",
        "        # if ix == 10: break\n",
        "        loss, gender_acc, age_mae = validate_batch(data, model, criteria)\n",
        "        epoch_test_loss += loss.item()\n",
        "        val_age_mae += age_mae\n",
        "        val_gender_acc += gender_acc\n",
        "        ctr += len(data[0])\n",
        "\n",
        "    val_age_mae /= ctr\n",
        "    val_gender_acc /= ctr\n",
        "    epoch_train_loss /= len(train_loader)\n",
        "    epoch_test_loss /= len(test_loader)\n",
        "\n",
        "    elapsed = time.time()-start\n",
        "    best_test_loss = min(best_test_loss, epoch_test_loss)\n",
        "    print('{}/{} ({:.2f}s - {:.2f}s remaining)'.format(epoch+1, n_epochs, time.time()-start, (n_epochs-epoch)*(elapsed/(epoch+1))))\n",
        "    info = f'''Epoch: {epoch+1:03d}\\tTrain Loss: {epoch_train_loss:.3f}\\tTest: {epoch_test_loss:.3f}\\tBest Test Loss: {best_test_loss:.4f}'''\n",
        "    info += f'\\nGender Accuracy: {val_gender_acc*100:.2f}%\\tAge MAE: {val_age_mae:.2f}\\n'\n",
        "    print(info)\n",
        "\n",
        "    val_gender_accuracies.append(val_gender_acc)\n",
        "    val_age_maes.append(val_age_mae)"
      ],
      "execution_count": 12,
      "outputs": [
        {
          "output_type": "stream",
          "text": [
            "1/5 (698.02s - 3490.08s remaining)\n",
            "Epoch: 001\tTrain Loss: 0.550\tTest: 0.480\tBest Test Loss: 0.4802\n",
            "Gender Accuracy: 82.38%\tAge MAE: 6.10\n",
            "\n",
            "2/5 (1411.02s - 2822.04s remaining)\n",
            "Epoch: 002\tTrain Loss: 0.399\tTest: 0.447\tBest Test Loss: 0.4474\n",
            "Gender Accuracy: 84.43%\tAge MAE: 6.23\n",
            "\n",
            "3/5 (2157.32s - 2157.32s remaining)\n",
            "Epoch: 003\tTrain Loss: 0.281\tTest: 0.500\tBest Test Loss: 0.4474\n",
            "Gender Accuracy: 84.09%\tAge MAE: 6.31\n",
            "\n",
            "4/5 (2906.15s - 1453.07s remaining)\n",
            "Epoch: 004\tTrain Loss: 0.194\tTest: 0.642\tBest Test Loss: 0.4474\n",
            "Gender Accuracy: 84.30%\tAge MAE: 6.18\n",
            "\n",
            "5/5 (3653.61s - 730.72s remaining)\n",
            "Epoch: 005\tTrain Loss: 0.157\tTest: 0.694\tBest Test Loss: 0.4474\n",
            "Gender Accuracy: 84.27%\tAge MAE: 6.44\n",
            "\n"
          ],
          "name": "stdout"
        }
      ]
    },
    {
      "cell_type": "code",
      "metadata": {
        "id": "akzO0Z3Br2GP",
        "colab": {
          "base_uri": "https://localhost:8080/",
          "height": 350
        },
        "outputId": "ac20a13a-1942-42f0-d219-dbab4c6e0748"
      },
      "source": [
        "epochs = np.arange(1,len(val_gender_accuracies)+1)\n",
        "fig,ax = plt.subplots(1,2,figsize=(10,5))\n",
        "ax = ax.flat\n",
        "ax[0].plot(epochs, val_gender_accuracies, 'bo')\n",
        "ax[1].plot(epochs, val_age_maes, 'r')\n",
        "ax[0].set_xlabel('Epochs')\n",
        "ax[1].set_xlabel('Epochs')\n",
        "ax[0].set_ylabel('Accuracy')\n",
        "ax[1].set_ylabel('MAE')\n",
        "ax[0].set_title('Validation Gender Accuracy')\n",
        "ax[0].set_title('Validation Age Mean-Absolute-Error')\n",
        "plt.show()\n"
      ],
      "execution_count": 13,
      "outputs": [
        {
          "output_type": "display_data",
          "data": {
            "image/png": "[encoded data removed]",
            "text/plain": [
              "<Figure size 720x360 with 2 Axes>"
            ]
          },
          "metadata": {
            "tags": [],
            "needs_background": "light"
          }
        }
      ]
    },
    {
      "cell_type": "code",
      "metadata": {
        "id": "U3MVHGy2tQgn",
        "colab": {
          "base_uri": "https://localhost:8080/",
          "height": 287
        },
        "outputId": "83bc99b1-0189-4683-d740-2a4b6bda6d1d"
      },
      "source": [
        "\n",
        "im = cv2.imread('/15846.JPEG')\n",
        "im = trn.preprocess_image(im).to(device)\n",
        "gender, age = model(im)\n",
        "pred_gender = gender.to('cpu').detach().numpy()\n",
        "pred_age = age.to('cpu').detach().numpy()\n",
        "im = cv2.imread('/15846.JPEG')\n",
        "im = cv2.cvtColor(im, cv2.COLOR_BGR2RGB)\n",
        "plt.imshow(im)\n",
        "print('predicted gender:',np.where(pred_gender[0][0]<0.5,'Male','Female'), '; Predicted age', int(pred_age[0][0]*80))"
      ],
      "execution_count": 18,
      "outputs": [
        {
          "output_type": "stream",
          "text": [
            "predicted gender: Male ; Predicted age 19\n"
          ],
          "name": "stdout"
        },
        {
          "output_type": "display_data",
          "data": {
            "image/png": "[encoded data removed]",
            "text/plain": [
              "<Figure size 432x288 with 1 Axes>"
            ]
          },
          "metadata": {
            "tags": [],
            "needs_background": "light"
          }
        }
      ]
    },
    {
      "cell_type": "code",
      "metadata": {
        "id": "kst7Qp5lwlhJ"
      },
      "source": [
        ""
      ],
      "execution_count": null,
      "outputs": []
    }
  ]
}